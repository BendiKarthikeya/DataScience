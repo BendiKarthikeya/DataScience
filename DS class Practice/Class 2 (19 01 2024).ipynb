{
 "cells": [
  {
   "cell_type": "code",
   "execution_count": 1,
   "id": "1b6e4382",
   "metadata": {},
   "outputs": [
    {
     "name": "stdout",
     "output_type": "stream",
     "text": [
      "hi*hi-hi\n",
      "hi\n"
     ]
    }
   ],
   "source": [
    "print(\"hi\",end='*')\n",
    "print(\"hi\",end='-')\n",
    "print(\"hi\")\n",
    "print(\"hi\")"
   ]
  },
  {
   "cell_type": "code",
   "execution_count": 2,
   "id": "e0f0f918",
   "metadata": {},
   "outputs": [
    {
     "name": "stdout",
     "output_type": "stream",
     "text": [
      "hi\n",
      "hi\n"
     ]
    }
   ],
   "source": [
    "print(\"hi\")\n",
    "print(\"hi\")"
   ]
  },
  {
   "cell_type": "code",
   "execution_count": 4,
   "id": "60ffa523",
   "metadata": {},
   "outputs": [
    {
     "name": "stdout",
     "output_type": "stream",
     "text": [
      "hi hi\n"
     ]
    }
   ],
   "source": [
    "print(\"hi\",end=' ')\n",
    "print(\"hi\")"
   ]
  },
  {
   "cell_type": "code",
   "execution_count": 5,
   "id": "19ecd744",
   "metadata": {},
   "outputs": [
    {
     "name": "stdout",
     "output_type": "stream",
     "text": [
      "*\n",
      "**\n",
      "***\n",
      "****\n",
      "*****\n",
      "\n"
     ]
    }
   ],
   "source": [
    "print(\"*\\n**\\n***\\n****\\n*****\\n\")"
   ]
  },
  {
   "cell_type": "code",
   "execution_count": 6,
   "id": "37a055ff",
   "metadata": {},
   "outputs": [
    {
     "name": "stdout",
     "output_type": "stream",
     "text": [
      "1\n"
     ]
    },
    {
     "data": {
      "text/plain": [
       "'1'"
      ]
     },
     "execution_count": 6,
     "metadata": {},
     "output_type": "execute_result"
    }
   ],
   "source": [
    "input()"
   ]
  },
  {
   "cell_type": "code",
   "execution_count": 8,
   "id": "4946d55a",
   "metadata": {},
   "outputs": [
    {
     "name": "stdout",
     "output_type": "stream",
     "text": [
      "Enter your nameBENDI KARTHIKEYA\n"
     ]
    }
   ],
   "source": [
    "x=input(\"Enter your name\")"
   ]
  },
  {
   "cell_type": "code",
   "execution_count": 9,
   "id": "996d1662",
   "metadata": {},
   "outputs": [
    {
     "data": {
      "text/plain": [
       "'BENDI KARTHIKEYA'"
      ]
     },
     "execution_count": 9,
     "metadata": {},
     "output_type": "execute_result"
    }
   ],
   "source": [
    "x"
   ]
  },
  {
   "cell_type": "code",
   "execution_count": 14,
   "id": "465bbd40",
   "metadata": {},
   "outputs": [
    {
     "name": "stdout",
     "output_type": "stream",
     "text": [
      "enter 1st number 1\n",
      "enter 2nd number 2\n"
     ]
    }
   ],
   "source": [
    "x1=input(\"enter 1st number \")\n",
    "x2=input(\"enter 2nd number \")\n",
    "add=x1+x2\n"
   ]
  },
  {
   "cell_type": "code",
   "execution_count": 22,
   "id": "df09e058",
   "metadata": {
    "scrolled": true
   },
   "outputs": [
    {
     "data": {
      "text/plain": [
       "'12'"
      ]
     },
     "execution_count": 22,
     "metadata": {},
     "output_type": "execute_result"
    }
   ],
   "source": [
    "add\n",
    "\n"
   ]
  },
  {
   "cell_type": "code",
   "execution_count": 23,
   "id": "a109a02e",
   "metadata": {},
   "outputs": [
    {
     "name": "stdout",
     "output_type": "stream",
     "text": [
      "IT takes as string\n"
     ]
    }
   ],
   "source": [
    "print(\"IT takes as string\")"
   ]
  },
  {
   "cell_type": "code",
   "execution_count": 20,
   "id": "ab955096",
   "metadata": {},
   "outputs": [],
   "source": [
    "x=1.32"
   ]
  },
  {
   "cell_type": "code",
   "execution_count": 18,
   "id": "0a468a36",
   "metadata": {},
   "outputs": [
    {
     "data": {
      "text/plain": [
       "1"
      ]
     },
     "execution_count": 18,
     "metadata": {},
     "output_type": "execute_result"
    }
   ],
   "source": [
    "int(x)"
   ]
  },
  {
   "cell_type": "code",
   "execution_count": 29,
   "id": "5c5befed",
   "metadata": {},
   "outputs": [
    {
     "name": "stdout",
     "output_type": "stream",
     "text": [
      "enter the height12\n",
      "enter the breadth12\n",
      "area of circle is 72.0\n"
     ]
    }
   ],
   "source": [
    "x1=int (input(\"enter the height\"))\n",
    "x2=int (input(\"enter the breadth\"))\n",
    "print(\"area of circle is\", x1*x2/2)"
   ]
  },
  {
   "cell_type": "code",
   "execution_count": 30,
   "id": "1081366d",
   "metadata": {},
   "outputs": [
    {
     "name": "stdout",
     "output_type": "stream",
     "text": [
      "enter the radius12\n",
      "area of circle is 452.15999999999997\n"
     ]
    }
   ],
   "source": [
    "x1=int (input(\"enter the radius\"))\n",
    "\n",
    "print(\"area of circle is\",3.14*x1*x1)"
   ]
  },
  {
   "cell_type": "code",
   "execution_count": 47,
   "id": "dcae1603",
   "metadata": {},
   "outputs": [
    {
     "name": "stdout",
     "output_type": "stream",
     "text": [
      "Enter the value of a 1\n",
      "Enter the value of b 3\n",
      "Enter the value of c -4\n",
      "the one roots of the equaion is 1.0\n",
      "the second roots of the equaion is -4.0\n"
     ]
    }
   ],
   "source": [
    "import math\n",
    "a=int(input(\"Enter the value of a \"))\n",
    "b=int(input(\"Enter the value of b \"))\n",
    "c=int(input(\"Enter the value of c \"))\n",
    "print(\"the one roots of the equaion is\",(-b + math.sqrt(b*b - 4*a*c) )/(2*a))\n",
    "\n",
    "print(\"the second roots of the equaion is\",(-b - math.sqrt(b*b - 4*a*c) )/(2*a))\n"
   ]
  },
  {
   "cell_type": "code",
   "execution_count": 48,
   "id": "339aee43",
   "metadata": {},
   "outputs": [],
   "source": [
    "x=\"hello\""
   ]
  },
  {
   "cell_type": "code",
   "execution_count": 54,
   "id": "9d3bc833",
   "metadata": {},
   "outputs": [
    {
     "data": {
      "text/plain": [
       "'ho'"
      ]
     },
     "execution_count": 54,
     "metadata": {},
     "output_type": "execute_result"
    }
   ],
   "source": [
    "x[0:6:4]"
   ]
  },
  {
   "cell_type": "code",
   "execution_count": 67,
   "id": "19f3d57e",
   "metadata": {},
   "outputs": [
    {
     "data": {
      "text/plain": [
       "'olleh'"
      ]
     },
     "execution_count": 67,
     "metadata": {},
     "output_type": "execute_result"
    }
   ],
   "source": [
    "x[-1:-6:-1]\n"
   ]
  },
  {
   "cell_type": "code",
   "execution_count": 68,
   "id": "6908befb",
   "metadata": {},
   "outputs": [
    {
     "data": {
      "text/plain": [
       "'olleh'"
      ]
     },
     "execution_count": 68,
     "metadata": {},
     "output_type": "execute_result"
    }
   ],
   "source": [
    "x[::-1]"
   ]
  },
  {
   "cell_type": "code",
   "execution_count": 70,
   "id": "7a55dbfa",
   "metadata": {},
   "outputs": [],
   "source": [
    "x=\"abcdefghijklmnopqrstuvwxyz\""
   ]
  },
  {
   "cell_type": "code",
   "execution_count": 71,
   "id": "782e6333",
   "metadata": {},
   "outputs": [
    {
     "data": {
      "text/plain": [
       "'bcde'"
      ]
     },
     "execution_count": 71,
     "metadata": {},
     "output_type": "execute_result"
    }
   ],
   "source": [
    "x[1:5]"
   ]
  },
  {
   "cell_type": "code",
   "execution_count": 72,
   "id": "89e2936c",
   "metadata": {},
   "outputs": [
    {
     "data": {
      "text/plain": [
       "''"
      ]
     },
     "execution_count": 72,
     "metadata": {},
     "output_type": "execute_result"
    }
   ],
   "source": [
    "x[-1:-5]"
   ]
  },
  {
   "cell_type": "code",
   "execution_count": 73,
   "id": "6d5c3410",
   "metadata": {},
   "outputs": [
    {
     "data": {
      "text/plain": [
       "''"
      ]
     },
     "execution_count": 73,
     "metadata": {},
     "output_type": "execute_result"
    }
   ],
   "source": [
    "x[-5:-10]"
   ]
  },
  {
   "cell_type": "code",
   "execution_count": 74,
   "id": "6aad7b67",
   "metadata": {},
   "outputs": [
    {
     "data": {
      "text/plain": [
       "'hijklmnopqrstuvwxyz'"
      ]
     },
     "execution_count": 74,
     "metadata": {},
     "output_type": "execute_result"
    }
   ],
   "source": [
    "x[7:]"
   ]
  },
  {
   "cell_type": "code",
   "execution_count": 75,
   "id": "75aaabc6",
   "metadata": {},
   "outputs": [
    {
     "data": {
      "text/plain": [
       "'hjlnprtvxz'"
      ]
     },
     "execution_count": 75,
     "metadata": {},
     "output_type": "execute_result"
    }
   ],
   "source": [
    "x[7::2]"
   ]
  },
  {
   "cell_type": "code",
   "execution_count": 87,
   "id": "e9894b86",
   "metadata": {},
   "outputs": [],
   "source": [
    "y=\"pw ioj bangalore\""
   ]
  },
  {
   "cell_type": "code",
   "execution_count": 92,
   "id": "f76d4923",
   "metadata": {},
   "outputs": [
    {
     "data": {
      "text/plain": [
       "'bangalore'"
      ]
     },
     "execution_count": 92,
     "metadata": {},
     "output_type": "execute_result"
    }
   ],
   "source": [
    "y[-9::1]"
   ]
  },
  {
   "cell_type": "code",
   "execution_count": 93,
   "id": "f56d8669",
   "metadata": {},
   "outputs": [],
   "source": [
    "##step default positive so "
   ]
  },
  {
   "cell_type": "code",
   "execution_count": 94,
   "id": "ef156049",
   "metadata": {},
   "outputs": [
    {
     "data": {
      "text/plain": [
       "1.6666666666666667"
      ]
     },
     "execution_count": 94,
     "metadata": {},
     "output_type": "execute_result"
    }
   ],
   "source": [
    "5/3"
   ]
  },
  {
   "cell_type": "code",
   "execution_count": 95,
   "id": "ff1f6315",
   "metadata": {},
   "outputs": [
    {
     "data": {
      "text/plain": [
       "1"
      ]
     },
     "execution_count": 95,
     "metadata": {},
     "output_type": "execute_result"
    }
   ],
   "source": [
    "5//3"
   ]
  },
  {
   "cell_type": "code",
   "execution_count": 96,
   "id": "a9e0c6e6",
   "metadata": {},
   "outputs": [
    {
     "data": {
      "text/plain": [
       "2.5"
      ]
     },
     "execution_count": 96,
     "metadata": {},
     "output_type": "execute_result"
    }
   ],
   "source": [
    "5/2"
   ]
  },
  {
   "cell_type": "code",
   "execution_count": 97,
   "id": "276ecf11",
   "metadata": {},
   "outputs": [
    {
     "data": {
      "text/plain": [
       "2"
      ]
     },
     "execution_count": 97,
     "metadata": {},
     "output_type": "execute_result"
    }
   ],
   "source": [
    "5//2"
   ]
  },
  {
   "cell_type": "code",
   "execution_count": 98,
   "id": "524a13ad",
   "metadata": {},
   "outputs": [
    {
     "data": {
      "text/plain": [
       "4"
      ]
     },
     "execution_count": 98,
     "metadata": {},
     "output_type": "execute_result"
    }
   ],
   "source": [
    "2 **2"
   ]
  },
  {
   "cell_type": "code",
   "execution_count": 99,
   "id": "a10f281e",
   "metadata": {},
   "outputs": [
    {
     "data": {
      "text/plain": [
       "32"
      ]
     },
     "execution_count": 99,
     "metadata": {},
     "output_type": "execute_result"
    }
   ],
   "source": [
    "2 **5"
   ]
  },
  {
   "cell_type": "code",
   "execution_count": 100,
   "id": "f0493ab6",
   "metadata": {},
   "outputs": [
    {
     "data": {
      "text/plain": [
       "32"
      ]
     },
     "execution_count": 100,
     "metadata": {},
     "output_type": "execute_result"
    }
   ],
   "source": [
    "2**5"
   ]
  },
  {
   "cell_type": "code",
   "execution_count": 101,
   "id": "91809549",
   "metadata": {},
   "outputs": [
    {
     "data": {
      "text/plain": [
       "True"
      ]
     },
     "execution_count": 101,
     "metadata": {},
     "output_type": "execute_result"
    }
   ],
   "source": [
    "2==2\n"
   ]
  },
  {
   "cell_type": "code",
   "execution_count": 102,
   "id": "37aa380c",
   "metadata": {},
   "outputs": [
    {
     "data": {
      "text/plain": [
       "True"
      ]
     },
     "execution_count": 102,
     "metadata": {},
     "output_type": "execute_result"
    }
   ],
   "source": [
    "2<=4"
   ]
  },
  {
   "cell_type": "code",
   "execution_count": 103,
   "id": "028b4b6c",
   "metadata": {},
   "outputs": [
    {
     "data": {
      "text/plain": [
       "False"
      ]
     },
     "execution_count": 103,
     "metadata": {},
     "output_type": "execute_result"
    }
   ],
   "source": [
    "2==3"
   ]
  },
  {
   "cell_type": "code",
   "execution_count": 105,
   "id": "1fbf78ca",
   "metadata": {},
   "outputs": [
    {
     "data": {
      "text/plain": [
       "True"
      ]
     },
     "execution_count": 105,
     "metadata": {},
     "output_type": "execute_result"
    }
   ],
   "source": [
    "2!=3"
   ]
  },
  {
   "cell_type": "code",
   "execution_count": 106,
   "id": "d59bb049",
   "metadata": {},
   "outputs": [
    {
     "data": {
      "text/plain": [
       "65"
      ]
     },
     "execution_count": 106,
     "metadata": {},
     "output_type": "execute_result"
    }
   ],
   "source": [
    "ord('A')"
   ]
  },
  {
   "cell_type": "code",
   "execution_count": 108,
   "id": "7b6bd3b0",
   "metadata": {},
   "outputs": [
    {
     "data": {
      "text/plain": [
       "33"
      ]
     },
     "execution_count": 108,
     "metadata": {},
     "output_type": "execute_result"
    }
   ],
   "source": [
    "ord('!')"
   ]
  },
  {
   "cell_type": "code",
   "execution_count": 113,
   "id": "4f95273c",
   "metadata": {},
   "outputs": [
    {
     "name": "stdout",
     "output_type": "stream",
     "text": [
      "a= SRIKAKULAM b= srikakulam\n"
     ]
    }
   ],
   "source": [
    "a=\"SRIKAKULAM\"\n",
    "b=\"srikakulam\"\n",
    "print(\"a=\",a,\"b=\",b)"
   ]
  },
  {
   "cell_type": "code",
   "execution_count": 114,
   "id": "5b582c71",
   "metadata": {},
   "outputs": [
    {
     "data": {
      "text/plain": [
       "False"
      ]
     },
     "execution_count": 114,
     "metadata": {},
     "output_type": "execute_result"
    }
   ],
   "source": [
    "a==b"
   ]
  },
  {
   "cell_type": "code",
   "execution_count": 115,
   "id": "e3b4c579",
   "metadata": {},
   "outputs": [
    {
     "data": {
      "text/plain": [
       "True"
      ]
     },
     "execution_count": 115,
     "metadata": {},
     "output_type": "execute_result"
    }
   ],
   "source": [
    "1<2<3"
   ]
  },
  {
   "cell_type": "code",
   "execution_count": 116,
   "id": "f945ddbe",
   "metadata": {},
   "outputs": [
    {
     "data": {
      "text/plain": [
       "False"
      ]
     },
     "execution_count": 116,
     "metadata": {},
     "output_type": "execute_result"
    }
   ],
   "source": [
    "1<2<0"
   ]
  },
  {
   "cell_type": "code",
   "execution_count": 117,
   "id": "647c86aa",
   "metadata": {},
   "outputs": [
    {
     "data": {
      "text/plain": [
       "True"
      ]
     },
     "execution_count": 117,
     "metadata": {},
     "output_type": "execute_result"
    }
   ],
   "source": [
    "6<7>5"
   ]
  },
  {
   "cell_type": "code",
   "execution_count": 118,
   "id": "e0892fae",
   "metadata": {},
   "outputs": [
    {
     "data": {
      "text/plain": [
       "True"
      ]
     },
     "execution_count": 118,
     "metadata": {},
     "output_type": "execute_result"
    }
   ],
   "source": [
    "4<7>5"
   ]
  },
  {
   "cell_type": "code",
   "execution_count": 120,
   "id": "92d639f5",
   "metadata": {},
   "outputs": [
    {
     "name": "stdout",
     "output_type": "stream",
     "text": [
      "False\n"
     ]
    }
   ],
   "source": [
    "print(10==True)"
   ]
  },
  {
   "cell_type": "code",
   "execution_count": 129,
   "id": "77bc54e1",
   "metadata": {},
   "outputs": [
    {
     "name": "stdout",
     "output_type": "stream",
     "text": [
      "False\n"
     ]
    }
   ],
   "source": [
    "print(\"A\"==65)"
   ]
  },
  {
   "cell_type": "code",
   "execution_count": 130,
   "id": "871a60ca",
   "metadata": {},
   "outputs": [
    {
     "data": {
      "text/plain": [
       "False"
      ]
     },
     "execution_count": 130,
     "metadata": {},
     "output_type": "execute_result"
    }
   ],
   "source": [
    "\"A\"==65"
   ]
  },
  {
   "cell_type": "code",
   "execution_count": 128,
   "id": "a075eec3",
   "metadata": {},
   "outputs": [
    {
     "data": {
      "text/plain": [
       "False"
      ]
     },
     "execution_count": 128,
     "metadata": {},
     "output_type": "execute_result"
    }
   ],
   "source": [
    "\"A\"==\"65\""
   ]
  },
  {
   "cell_type": "code",
   "execution_count": 127,
   "id": "937975d6",
   "metadata": {},
   "outputs": [
    {
     "data": {
      "text/plain": [
       "True"
      ]
     },
     "execution_count": 127,
     "metadata": {},
     "output_type": "execute_result"
    }
   ],
   "source": [
    "ord(\"A\")==65"
   ]
  },
  {
   "cell_type": "code",
   "execution_count": 136,
   "id": "821a8425",
   "metadata": {},
   "outputs": [
    {
     "data": {
      "text/plain": [
       "False"
      ]
     },
     "execution_count": 136,
     "metadata": {},
     "output_type": "execute_result"
    }
   ],
   "source": [
    "a=40\n",
    "b=20\n",
    "c=50\n",
    "a>b  and a>c"
   ]
  },
  {
   "cell_type": "code",
   "execution_count": 133,
   "id": "2a44713b",
   "metadata": {},
   "outputs": [
    {
     "data": {
      "text/plain": [
       "True"
      ]
     },
     "execution_count": 133,
     "metadata": {},
     "output_type": "execute_result"
    }
   ],
   "source": [
    "a=40\n",
    "b=20\n",
    "c=50\n",
    "a>b or a>c"
   ]
  },
  {
   "cell_type": "code",
   "execution_count": 140,
   "id": "278378ee",
   "metadata": {},
   "outputs": [
    {
     "data": {
      "text/plain": [
       "True"
      ]
     },
     "execution_count": 140,
     "metadata": {},
     "output_type": "execute_result"
    }
   ],
   "source": [
    "1==True"
   ]
  },
  {
   "cell_type": "code",
   "execution_count": 141,
   "id": "2b2b3108",
   "metadata": {},
   "outputs": [
    {
     "data": {
      "text/plain": [
       "True"
      ]
     },
     "execution_count": 141,
     "metadata": {},
     "output_type": "execute_result"
    }
   ],
   "source": [
    "0==False"
   ]
  },
  {
   "cell_type": "code",
   "execution_count": 142,
   "id": "74c5cbb9",
   "metadata": {},
   "outputs": [
    {
     "data": {
      "text/plain": [
       "False"
      ]
     },
     "execution_count": 142,
     "metadata": {},
     "output_type": "execute_result"
    }
   ],
   "source": [
    "2==True"
   ]
  },
  {
   "cell_type": "code",
   "execution_count": 144,
   "id": "879ceb8e",
   "metadata": {},
   "outputs": [
    {
     "data": {
      "text/plain": [
       "True"
      ]
     },
     "execution_count": 144,
     "metadata": {},
     "output_type": "execute_result"
    }
   ],
   "source": [
    "bool(1)"
   ]
  },
  {
   "cell_type": "code",
   "execution_count": 145,
   "id": "02c49e23",
   "metadata": {},
   "outputs": [
    {
     "data": {
      "text/plain": [
       "True"
      ]
     },
     "execution_count": 145,
     "metadata": {},
     "output_type": "execute_result"
    }
   ],
   "source": [
    "bool(2)"
   ]
  },
  {
   "cell_type": "code",
   "execution_count": 153,
   "id": "44b306bf",
   "metadata": {},
   "outputs": [
    {
     "data": {
      "text/plain": [
       "6"
      ]
     },
     "execution_count": 153,
     "metadata": {},
     "output_type": "execute_result"
    }
   ],
   "source": [
    "5 and 6"
   ]
  },
  {
   "cell_type": "code",
   "execution_count": 154,
   "id": "207b5dd1",
   "metadata": {},
   "outputs": [
    {
     "data": {
      "text/plain": [
       "5"
      ]
     },
     "execution_count": 154,
     "metadata": {},
     "output_type": "execute_result"
    }
   ],
   "source": [
    "6 and 5"
   ]
  },
  {
   "cell_type": "code",
   "execution_count": 147,
   "id": "f971f459",
   "metadata": {},
   "outputs": [
    {
     "data": {
      "text/plain": [
       "5"
      ]
     },
     "execution_count": 147,
     "metadata": {},
     "output_type": "execute_result"
    }
   ],
   "source": [
    "5 or 0"
   ]
  },
  {
   "cell_type": "code",
   "execution_count": 155,
   "id": "fa1f5c71",
   "metadata": {},
   "outputs": [
    {
     "data": {
      "text/plain": [
       "5"
      ]
     },
     "execution_count": 155,
     "metadata": {},
     "output_type": "execute_result"
    }
   ],
   "source": [
    "5 or 6"
   ]
  },
  {
   "cell_type": "code",
   "execution_count": 156,
   "id": "06a267a0",
   "metadata": {},
   "outputs": [
    {
     "data": {
      "text/plain": [
       "6"
      ]
     },
     "execution_count": 156,
     "metadata": {},
     "output_type": "execute_result"
    }
   ],
   "source": [
    "6 or 5"
   ]
  },
  {
   "cell_type": "code",
   "execution_count": 157,
   "id": "9bee387a",
   "metadata": {},
   "outputs": [
    {
     "data": {
      "text/plain": [
       "0"
      ]
     },
     "execution_count": 157,
     "metadata": {},
     "output_type": "execute_result"
    }
   ],
   "source": [
    "0 and 5"
   ]
  },
  {
   "cell_type": "code",
   "execution_count": 149,
   "id": "b16d8e01",
   "metadata": {},
   "outputs": [
    {
     "data": {
      "text/plain": [
       "0"
      ]
     },
     "execution_count": 149,
     "metadata": {},
     "output_type": "execute_result"
    }
   ],
   "source": [
    "5 and 0"
   ]
  },
  {
   "cell_type": "code",
   "execution_count": 150,
   "id": "e960715e",
   "metadata": {},
   "outputs": [
    {
     "data": {
      "text/plain": [
       "0"
      ]
     },
     "execution_count": 150,
     "metadata": {},
     "output_type": "execute_result"
    }
   ],
   "source": [
    "0 and 5"
   ]
  },
  {
   "cell_type": "code",
   "execution_count": 151,
   "id": "220dbd5b",
   "metadata": {},
   "outputs": [
    {
     "data": {
      "text/plain": [
       "5"
      ]
     },
     "execution_count": 151,
     "metadata": {},
     "output_type": "execute_result"
    }
   ],
   "source": [
    "5 or 6"
   ]
  },
  {
   "cell_type": "code",
   "execution_count": 152,
   "id": "17906a6e",
   "metadata": {},
   "outputs": [
    {
     "data": {
      "text/plain": [
       "5"
      ]
     },
     "execution_count": 152,
     "metadata": {},
     "output_type": "execute_result"
    }
   ],
   "source": [
    "0 or 5"
   ]
  },
  {
   "cell_type": "code",
   "execution_count": 158,
   "id": "14eeba06",
   "metadata": {},
   "outputs": [
    {
     "data": {
      "text/plain": [
       "5"
      ]
     },
     "execution_count": 158,
     "metadata": {},
     "output_type": "execute_result"
    }
   ],
   "source": [
    "5 or 0"
   ]
  },
  {
   "cell_type": "code",
   "execution_count": 160,
   "id": "59611061",
   "metadata": {},
   "outputs": [
    {
     "name": "stdout",
     "output_type": "stream",
     "text": [
      "10 10 10\n"
     ]
    }
   ],
   "source": [
    "x=y=z=10\n",
    "print(x,y,z)"
   ]
  },
  {
   "cell_type": "code",
   "execution_count": 161,
   "id": "ebb033a2",
   "metadata": {},
   "outputs": [],
   "source": [
    "x,y=10,11"
   ]
  },
  {
   "cell_type": "code",
   "execution_count": 162,
   "id": "6514ed66",
   "metadata": {},
   "outputs": [
    {
     "data": {
      "text/plain": [
       "11"
      ]
     },
     "execution_count": 162,
     "metadata": {},
     "output_type": "execute_result"
    }
   ],
   "source": [
    "y"
   ]
  },
  {
   "cell_type": "code",
   "execution_count": 163,
   "id": "9e782c44",
   "metadata": {},
   "outputs": [
    {
     "data": {
      "text/plain": [
       "10"
      ]
     },
     "execution_count": 163,
     "metadata": {},
     "output_type": "execute_result"
    }
   ],
   "source": [
    "x"
   ]
  },
  {
   "cell_type": "code",
   "execution_count": 164,
   "id": "44933b5f",
   "metadata": {},
   "outputs": [
    {
     "data": {
      "text/plain": [
       "(10, 11)"
      ]
     },
     "execution_count": 164,
     "metadata": {},
     "output_type": "execute_result"
    }
   ],
   "source": [
    "x,y"
   ]
  },
  {
   "cell_type": "code",
   "execution_count": 165,
   "id": "8d04c4bf",
   "metadata": {},
   "outputs": [
    {
     "name": "stdout",
     "output_type": "stream",
     "text": [
      "10 11\n"
     ]
    }
   ],
   "source": [
    "print(x,y)"
   ]
  },
  {
   "cell_type": "code",
   "execution_count": 167,
   "id": "035be9b4",
   "metadata": {},
   "outputs": [],
   "source": [
    "x,y=10,9"
   ]
  },
  {
   "cell_type": "code",
   "execution_count": 168,
   "id": "89be4626",
   "metadata": {},
   "outputs": [],
   "source": [
    "x=10\n",
    "x+=5\n"
   ]
  },
  {
   "cell_type": "code",
   "execution_count": 169,
   "id": "cf9fd9b4",
   "metadata": {},
   "outputs": [
    {
     "data": {
      "text/plain": [
       "15"
      ]
     },
     "execution_count": 169,
     "metadata": {},
     "output_type": "execute_result"
    }
   ],
   "source": [
    "x"
   ]
  },
  {
   "cell_type": "code",
   "execution_count": 183,
   "id": "7ee0a3b5",
   "metadata": {},
   "outputs": [],
   "source": [
    "y=10\n",
    "y+=5"
   ]
  },
  {
   "cell_type": "code",
   "execution_count": 184,
   "id": "cfc3a0bd",
   "metadata": {},
   "outputs": [
    {
     "data": {
      "text/plain": [
       "15"
      ]
     },
     "execution_count": 184,
     "metadata": {},
     "output_type": "execute_result"
    }
   ],
   "source": [
    "y"
   ]
  },
  {
   "cell_type": "code",
   "execution_count": null,
   "id": "6a43ee40",
   "metadata": {},
   "outputs": [],
   "source": []
  }
 ],
 "metadata": {
  "kernelspec": {
   "display_name": "Python 3 (ipykernel)",
   "language": "python",
   "name": "python3"
  },
  "language_info": {
   "codemirror_mode": {
    "name": "ipython",
    "version": 3
   },
   "file_extension": ".py",
   "mimetype": "text/x-python",
   "name": "python",
   "nbconvert_exporter": "python",
   "pygments_lexer": "ipython3",
   "version": "3.11.5"
  }
 },
 "nbformat": 4,
 "nbformat_minor": 5
}
