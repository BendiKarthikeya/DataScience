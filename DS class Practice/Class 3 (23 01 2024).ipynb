{
 "cells": [
  {
   "cell_type": "code",
   "execution_count": 2,
   "id": "2bfcb10e",
   "metadata": {},
   "outputs": [
    {
     "data": {
      "text/plain": [
       "'hi karthikeya'"
      ]
     },
     "execution_count": 2,
     "metadata": {},
     "output_type": "execute_result"
    }
   ],
   "source": [
    "\"hi\"+\" karthikeya\""
   ]
  },
  {
   "cell_type": "code",
   "execution_count": 4,
   "id": "4f19ba5e",
   "metadata": {},
   "outputs": [
    {
     "data": {
      "text/plain": [
       "'PWPWPWPWPW'"
      ]
     },
     "execution_count": 4,
     "metadata": {},
     "output_type": "execute_result"
    }
   ],
   "source": [
    "\"PW\"*5"
   ]
  },
  {
   "cell_type": "code",
   "execution_count": 17,
   "id": "eb17bfcc",
   "metadata": {},
   "outputs": [],
   "source": [
    "x=\"i am karthikeya\""
   ]
  },
  {
   "cell_type": "code",
   "execution_count": 18,
   "id": "abd6bf36",
   "metadata": {},
   "outputs": [
    {
     "data": {
      "text/plain": [
       "2"
      ]
     },
     "execution_count": 18,
     "metadata": {},
     "output_type": "execute_result"
    }
   ],
   "source": [
    "x.find('a')"
   ]
  },
  {
   "cell_type": "code",
   "execution_count": 19,
   "id": "137287a0",
   "metadata": {},
   "outputs": [
    {
     "data": {
      "text/plain": [
       "5"
      ]
     },
     "execution_count": 19,
     "metadata": {},
     "output_type": "execute_result"
    }
   ],
   "source": [
    "x.find('k')"
   ]
  },
  {
   "cell_type": "code",
   "execution_count": 20,
   "id": "449a8357",
   "metadata": {},
   "outputs": [
    {
     "data": {
      "text/plain": [
       "2"
      ]
     },
     "execution_count": 20,
     "metadata": {},
     "output_type": "execute_result"
    }
   ],
   "source": [
    "x.count('i')"
   ]
  },
  {
   "cell_type": "code",
   "execution_count": 21,
   "id": "c539c9c2",
   "metadata": {},
   "outputs": [
    {
     "data": {
      "text/plain": [
       "'i am karthikeya'"
      ]
     },
     "execution_count": 21,
     "metadata": {},
     "output_type": "execute_result"
    }
   ],
   "source": [
    "x"
   ]
  },
  {
   "cell_type": "code",
   "execution_count": 23,
   "id": "579ea5ea",
   "metadata": {},
   "outputs": [],
   "source": [
    "l=x.split()"
   ]
  },
  {
   "cell_type": "code",
   "execution_count": 24,
   "id": "730b461b",
   "metadata": {},
   "outputs": [
    {
     "data": {
      "text/plain": [
       "['i', 'am', 'karthikeya']"
      ]
     },
     "execution_count": 24,
     "metadata": {},
     "output_type": "execute_result"
    }
   ],
   "source": [
    "l"
   ]
  },
  {
   "cell_type": "code",
   "execution_count": 25,
   "id": "9e28335b",
   "metadata": {},
   "outputs": [
    {
     "data": {
      "text/plain": [
       "list"
      ]
     },
     "execution_count": 25,
     "metadata": {},
     "output_type": "execute_result"
    }
   ],
   "source": [
    "type(l)"
   ]
  },
  {
   "cell_type": "code",
   "execution_count": 29,
   "id": "95245603",
   "metadata": {},
   "outputs": [],
   "source": [
    "j=x.split('r')"
   ]
  },
  {
   "cell_type": "code",
   "execution_count": 30,
   "id": "f184ab31",
   "metadata": {},
   "outputs": [
    {
     "data": {
      "text/plain": [
       "['i am ka', 'thikeya']"
      ]
     },
     "execution_count": 30,
     "metadata": {},
     "output_type": "execute_result"
    }
   ],
   "source": [
    "j\n"
   ]
  },
  {
   "cell_type": "code",
   "execution_count": 31,
   "id": "78eda118",
   "metadata": {},
   "outputs": [
    {
     "data": {
      "text/plain": [
       "'i am ka'"
      ]
     },
     "execution_count": 31,
     "metadata": {},
     "output_type": "execute_result"
    }
   ],
   "source": [
    "j[0]"
   ]
  },
  {
   "cell_type": "code",
   "execution_count": 32,
   "id": "5a2f875f",
   "metadata": {},
   "outputs": [
    {
     "data": {
      "text/plain": [
       "'i am karthikeya'"
      ]
     },
     "execution_count": 32,
     "metadata": {},
     "output_type": "execute_result"
    }
   ],
   "source": [
    "x\n"
   ]
  },
  {
   "cell_type": "code",
   "execution_count": 33,
   "id": "ac7940f3",
   "metadata": {},
   "outputs": [
    {
     "data": {
      "text/plain": [
       "'I AM KARTHIKEYA'"
      ]
     },
     "execution_count": 33,
     "metadata": {},
     "output_type": "execute_result"
    }
   ],
   "source": [
    "x.upper()"
   ]
  },
  {
   "cell_type": "code",
   "execution_count": 41,
   "id": "59e9afba",
   "metadata": {},
   "outputs": [],
   "source": [
    "s=\" KaRthiKeyA\""
   ]
  },
  {
   "cell_type": "code",
   "execution_count": 42,
   "id": "31120f11",
   "metadata": {},
   "outputs": [
    {
     "data": {
      "text/plain": [
       "' kArTHIkEYa'"
      ]
     },
     "execution_count": 42,
     "metadata": {},
     "output_type": "execute_result"
    }
   ],
   "source": [
    "s.swapcase()"
   ]
  },
  {
   "cell_type": "code",
   "execution_count": 43,
   "id": "84494d88",
   "metadata": {},
   "outputs": [
    {
     "data": {
      "text/plain": [
       "' Karthikeya'"
      ]
     },
     "execution_count": 43,
     "metadata": {},
     "output_type": "execute_result"
    }
   ],
   "source": [
    "s.title()"
   ]
  },
  {
   "cell_type": "code",
   "execution_count": 44,
   "id": "f4eb32f5",
   "metadata": {},
   "outputs": [
    {
     "data": {
      "text/plain": [
       "'I Am Karthikeya'"
      ]
     },
     "execution_count": 44,
     "metadata": {},
     "output_type": "execute_result"
    }
   ],
   "source": [
    "x.title()\n"
   ]
  },
  {
   "cell_type": "code",
   "execution_count": 45,
   "id": "a88e7738",
   "metadata": {},
   "outputs": [
    {
     "data": {
      "text/plain": [
       "' karthikeya'"
      ]
     },
     "execution_count": 45,
     "metadata": {},
     "output_type": "execute_result"
    }
   ],
   "source": [
    "s.capitalize()"
   ]
  },
  {
   "cell_type": "code",
   "execution_count": 46,
   "id": "c204bc33",
   "metadata": {},
   "outputs": [
    {
     "data": {
      "text/plain": [
       "' i am karthikeyaKi am karthikeyaai am karthikeyaRi am karthikeyati am karthikeyahi am karthikeyaii am karthikeyaKi am karthikeyaei am karthikeyayi am karthikeyaA'"
      ]
     },
     "execution_count": 46,
     "metadata": {},
     "output_type": "execute_result"
    }
   ],
   "source": [
    "x.join(s)"
   ]
  },
  {
   "cell_type": "code",
   "execution_count": 54,
   "id": "2bac9ec9",
   "metadata": {},
   "outputs": [],
   "source": [
    "x=' pw '\n",
    "y='ioioio'"
   ]
  },
  {
   "cell_type": "code",
   "execution_count": 55,
   "id": "5090e030",
   "metadata": {},
   "outputs": [
    {
     "data": {
      "text/plain": [
       "'i pw o pw i pw o pw i pw o'"
      ]
     },
     "execution_count": 55,
     "metadata": {},
     "output_type": "execute_result"
    }
   ],
   "source": [
    "x.join(y)"
   ]
  },
  {
   "cell_type": "code",
   "execution_count": 56,
   "id": "6677084f",
   "metadata": {},
   "outputs": [],
   "source": [
    "b='             happy'"
   ]
  },
  {
   "cell_type": "code",
   "execution_count": 58,
   "id": "572aab4d",
   "metadata": {},
   "outputs": [
    {
     "data": {
      "text/plain": [
       "'happy'"
      ]
     },
     "execution_count": 58,
     "metadata": {},
     "output_type": "execute_result"
    }
   ],
   "source": [
    "b.lstrip()"
   ]
  },
  {
   "cell_type": "code",
   "execution_count": 59,
   "id": "572d11e5",
   "metadata": {},
   "outputs": [],
   "source": [
    "c='happy        '"
   ]
  },
  {
   "cell_type": "code",
   "execution_count": 61,
   "id": "926814b8",
   "metadata": {},
   "outputs": [
    {
     "data": {
      "text/plain": [
       "'happy'"
      ]
     },
     "execution_count": 61,
     "metadata": {},
     "output_type": "execute_result"
    }
   ],
   "source": [
    "c.rstrip()"
   ]
  },
  {
   "cell_type": "code",
   "execution_count": 64,
   "id": "fa89bcfb",
   "metadata": {},
   "outputs": [],
   "source": [
    "d='       hap        py          '"
   ]
  },
  {
   "cell_type": "code",
   "execution_count": 65,
   "id": "de1b3e97",
   "metadata": {},
   "outputs": [
    {
     "data": {
      "text/plain": [
       "'hap        py'"
      ]
     },
     "execution_count": 65,
     "metadata": {},
     "output_type": "execute_result"
    }
   ],
   "source": [
    "d.strip()"
   ]
  },
  {
   "cell_type": "code",
   "execution_count": 66,
   "id": "87383c1c",
   "metadata": {},
   "outputs": [],
   "source": [
    "s=\"pw skills\""
   ]
  },
  {
   "cell_type": "code",
   "execution_count": 68,
   "id": "acd9aa96",
   "metadata": {},
   "outputs": [
    {
     "data": {
      "text/plain": [
       "'pw ioi'"
      ]
     },
     "execution_count": 68,
     "metadata": {},
     "output_type": "execute_result"
    }
   ],
   "source": [
    "s.replace(\"skills\",'ioi')"
   ]
  },
  {
   "cell_type": "code",
   "execution_count": 71,
   "id": "e33e8244",
   "metadata": {},
   "outputs": [
    {
     "data": {
      "text/plain": [
       "'karthikeya      bendi'"
      ]
     },
     "execution_count": 71,
     "metadata": {},
     "output_type": "execute_result"
    }
   ],
   "source": [
    "\"karthikeya\\tbendi\".expandtabs()"
   ]
  },
  {
   "cell_type": "code",
   "execution_count": 72,
   "id": "dab59884",
   "metadata": {},
   "outputs": [],
   "source": [
    "s=\"karthikeya\""
   ]
  },
  {
   "cell_type": "code",
   "execution_count": 78,
   "id": "9ee76847",
   "metadata": {},
   "outputs": [
    {
     "data": {
      "text/plain": [
       "'***************karthikeya***************'"
      ]
     },
     "execution_count": 78,
     "metadata": {},
     "output_type": "execute_result"
    }
   ],
   "source": [
    "s.center(40,'*')"
   ]
  },
  {
   "cell_type": "code",
   "execution_count": 79,
   "id": "b6fec676",
   "metadata": {},
   "outputs": [],
   "source": [
    "y=s.center(15,'*')"
   ]
  },
  {
   "cell_type": "code",
   "execution_count": 80,
   "id": "3e6c2a11",
   "metadata": {},
   "outputs": [
    {
     "data": {
      "text/plain": [
       "15"
      ]
     },
     "execution_count": 80,
     "metadata": {},
     "output_type": "execute_result"
    }
   ],
   "source": [
    "len(y)"
   ]
  },
  {
   "cell_type": "code",
   "execution_count": 109,
   "id": "1a10ec92",
   "metadata": {},
   "outputs": [],
   "source": [
    "l1=[\"pw\",True,12,2.3,5+8j]"
   ]
  },
  {
   "cell_type": "code",
   "execution_count": 89,
   "id": "66a0b26f",
   "metadata": {},
   "outputs": [
    {
     "data": {
      "text/plain": [
       "list"
      ]
     },
     "execution_count": 89,
     "metadata": {},
     "output_type": "execute_result"
    }
   ],
   "source": [
    "type(l1)\n"
   ]
  },
  {
   "cell_type": "code",
   "execution_count": 90,
   "id": "c2559614",
   "metadata": {},
   "outputs": [
    {
     "data": {
      "text/plain": [
       "5"
      ]
     },
     "execution_count": 90,
     "metadata": {},
     "output_type": "execute_result"
    }
   ],
   "source": [
    "len(l1)"
   ]
  },
  {
   "cell_type": "code",
   "execution_count": 91,
   "id": "c4bf9ddb",
   "metadata": {},
   "outputs": [
    {
     "data": {
      "text/plain": [
       "False"
      ]
     },
     "execution_count": 91,
     "metadata": {},
     "output_type": "execute_result"
    }
   ],
   "source": [
    "345 in l1"
   ]
  },
  {
   "cell_type": "code",
   "execution_count": 92,
   "id": "4a287bb3",
   "metadata": {},
   "outputs": [
    {
     "data": {
      "text/plain": [
       "True"
      ]
     },
     "execution_count": 92,
     "metadata": {},
     "output_type": "execute_result"
    }
   ],
   "source": [
    "\"pw\" in l1"
   ]
  },
  {
   "cell_type": "code",
   "execution_count": 93,
   "id": "eebc20a3",
   "metadata": {},
   "outputs": [
    {
     "data": {
      "text/plain": [
       "['pw', True, 12, 2.3, (5+8j)]"
      ]
     },
     "execution_count": 93,
     "metadata": {},
     "output_type": "execute_result"
    }
   ],
   "source": [
    "l1"
   ]
  },
  {
   "cell_type": "code",
   "execution_count": 94,
   "id": "ccb77154",
   "metadata": {},
   "outputs": [
    {
     "data": {
      "text/plain": [
       "['pw', True, 12]"
      ]
     },
     "execution_count": 94,
     "metadata": {},
     "output_type": "execute_result"
    }
   ],
   "source": [
    "l1[0:3]"
   ]
  },
  {
   "cell_type": "code",
   "execution_count": 95,
   "id": "4f995af7",
   "metadata": {},
   "outputs": [],
   "source": [
    "l1.append(\"Karthikeya\")"
   ]
  },
  {
   "cell_type": "code",
   "execution_count": 96,
   "id": "aaa37d74",
   "metadata": {},
   "outputs": [
    {
     "data": {
      "text/plain": [
       "['pw', True, 12, 2.3, (5+8j), 'Karthikeya']"
      ]
     },
     "execution_count": 96,
     "metadata": {},
     "output_type": "execute_result"
    }
   ],
   "source": [
    "l1"
   ]
  },
  {
   "cell_type": "code",
   "execution_count": 98,
   "id": "c4035751",
   "metadata": {},
   "outputs": [
    {
     "data": {
      "text/plain": [
       "'Karthikeya'"
      ]
     },
     "execution_count": 98,
     "metadata": {},
     "output_type": "execute_result"
    }
   ],
   "source": [
    "l1.pop()"
   ]
  },
  {
   "cell_type": "code",
   "execution_count": 111,
   "id": "174ee5e5",
   "metadata": {},
   "outputs": [],
   "source": [
    "l1=[\"pw\",True,12,2.3,5+8j]"
   ]
  },
  {
   "cell_type": "code",
   "execution_count": 132,
   "id": "e133196c",
   "metadata": {},
   "outputs": [
    {
     "data": {
      "text/plain": [
       "2.3"
      ]
     },
     "execution_count": 132,
     "metadata": {},
     "output_type": "execute_result"
    }
   ],
   "source": [
    "l1.pop(2)"
   ]
  },
  {
   "cell_type": "code",
   "execution_count": 117,
   "id": "c652e671",
   "metadata": {},
   "outputs": [
    {
     "data": {
      "text/plain": [
       "['pw', True, 2.3, (5+8j), 'Karthikeya']"
      ]
     },
     "execution_count": 117,
     "metadata": {},
     "output_type": "execute_result"
    }
   ],
   "source": [
    "l1\n"
   ]
  },
  {
   "cell_type": "code",
   "execution_count": 133,
   "id": "b3776a5a",
   "metadata": {},
   "outputs": [
    {
     "data": {
      "text/plain": [
       "['pw', True, (5+8j), 'Karthikeya', 'Karthikeya']"
      ]
     },
     "execution_count": 133,
     "metadata": {},
     "output_type": "execute_result"
    }
   ],
   "source": [
    "l1\n"
   ]
  },
  {
   "cell_type": "code",
   "execution_count": 136,
   "id": "51aaaa11",
   "metadata": {},
   "outputs": [
    {
     "data": {
      "text/plain": [
       "True"
      ]
     },
     "execution_count": 136,
     "metadata": {},
     "output_type": "execute_result"
    }
   ],
   "source": [
    "l1.pop(1)"
   ]
  },
  {
   "cell_type": "code",
   "execution_count": 137,
   "id": "6ed27356",
   "metadata": {},
   "outputs": [
    {
     "data": {
      "text/plain": [
       "['pw', (5+8j), 'Karthikeya', 'Karthikeya']"
      ]
     },
     "execution_count": 137,
     "metadata": {},
     "output_type": "execute_result"
    }
   ],
   "source": [
    "l1"
   ]
  },
  {
   "cell_type": "code",
   "execution_count": 138,
   "id": "0d31f2f9",
   "metadata": {},
   "outputs": [],
   "source": [
    "a=['xyz','jadbfkajd','pqr',[34,45,56,576,67],345345]"
   ]
  },
  {
   "cell_type": "code",
   "execution_count": 153,
   "id": "9c61f4d5",
   "metadata": {},
   "outputs": [
    {
     "data": {
      "text/plain": [
       "67"
      ]
     },
     "execution_count": 153,
     "metadata": {},
     "output_type": "execute_result"
    }
   ],
   "source": [
    "a[3][4]"
   ]
  }
 ],
 "metadata": {
  "kernelspec": {
   "display_name": "Python 3 (ipykernel)",
   "language": "python",
   "name": "python3"
  },
  "language_info": {
   "codemirror_mode": {
    "name": "ipython",
    "version": 3
   },
   "file_extension": ".py",
   "mimetype": "text/x-python",
   "name": "python",
   "nbconvert_exporter": "python",
   "pygments_lexer": "ipython3",
   "version": "3.11.5"
  }
 },
 "nbformat": 4,
 "nbformat_minor": 5
}
