{
 "cells": [
  {
   "cell_type": "code",
   "execution_count": 1,
   "id": "0a6d836f",
   "metadata": {},
   "outputs": [],
   "source": [
    "#tuple"
   ]
  },
  {
   "cell_type": "code",
   "execution_count": 2,
   "id": "6bf444df",
   "metadata": {},
   "outputs": [],
   "source": [
    "t1=(234,\"Karthikeya\",(45+8j),52.34)"
   ]
  },
  {
   "cell_type": "code",
   "execution_count": 3,
   "id": "ac31b24a",
   "metadata": {},
   "outputs": [
    {
     "data": {
      "text/plain": [
       "tuple"
      ]
     },
     "execution_count": 3,
     "metadata": {},
     "output_type": "execute_result"
    }
   ],
   "source": [
    "type(t1)"
   ]
  },
  {
   "cell_type": "code",
   "execution_count": 5,
   "id": "2eb29d3e",
   "metadata": {},
   "outputs": [
    {
     "data": {
      "text/plain": [
       "(52.34, (45+8j), 'Karthikeya', 234)"
      ]
     },
     "execution_count": 5,
     "metadata": {},
     "output_type": "execute_result"
    }
   ],
   "source": [
    "t1[::-1]"
   ]
  },
  {
   "cell_type": "code",
   "execution_count": 9,
   "id": "6cf5e559",
   "metadata": {},
   "outputs": [
    {
     "data": {
      "text/plain": [
       "(234, (45+8j))"
      ]
     },
     "execution_count": 9,
     "metadata": {},
     "output_type": "execute_result"
    }
   ],
   "source": [
    "t1[::2]"
   ]
  },
  {
   "cell_type": "code",
   "execution_count": 11,
   "id": "33798e93",
   "metadata": {},
   "outputs": [
    {
     "data": {
      "text/plain": [
       "0"
      ]
     },
     "execution_count": 11,
     "metadata": {},
     "output_type": "execute_result"
    }
   ],
   "source": [
    "t1.index(234)"
   ]
  },
  {
   "cell_type": "code",
   "execution_count": 12,
   "id": "0b2e3546",
   "metadata": {},
   "outputs": [
    {
     "data": {
      "text/plain": [
       "(234, 'Karthikeya', (45+8j), 52.34)"
      ]
     },
     "execution_count": 12,
     "metadata": {},
     "output_type": "execute_result"
    }
   ],
   "source": [
    "t1"
   ]
  },
  {
   "cell_type": "code",
   "execution_count": 14,
   "id": "23d4b5fe",
   "metadata": {},
   "outputs": [
    {
     "data": {
      "text/plain": [
       "1"
      ]
     },
     "execution_count": 14,
     "metadata": {},
     "output_type": "execute_result"
    }
   ],
   "source": [
    "t1.count(234)"
   ]
  },
  {
   "cell_type": "code",
   "execution_count": 15,
   "id": "54e77dfc",
   "metadata": {},
   "outputs": [
    {
     "data": {
      "text/plain": [
       "[1, 2, 3, 4, 6, 7]"
      ]
     },
     "execution_count": 15,
     "metadata": {},
     "output_type": "execute_result"
    }
   ],
   "source": [
    "l1=[1,2,3]\n",
    "l2=[4,6,7]\n",
    "l1+l2"
   ]
  },
  {
   "cell_type": "code",
   "execution_count": 16,
   "id": "da0b71d4",
   "metadata": {},
   "outputs": [
    {
     "data": {
      "text/plain": [
       "[1, 2, 3, 1, 2, 3]"
      ]
     },
     "execution_count": 16,
     "metadata": {},
     "output_type": "execute_result"
    }
   ],
   "source": [
    "l1*2"
   ]
  },
  {
   "cell_type": "markdown",
   "id": "1f570c55",
   "metadata": {},
   "source": [
    "# set"
   ]
  },
  {
   "cell_type": "code",
   "execution_count": 20,
   "id": "a3b432d2",
   "metadata": {},
   "outputs": [],
   "source": [
    "s1={1,2,3}"
   ]
  },
  {
   "cell_type": "code",
   "execution_count": 22,
   "id": "fa75c3fd",
   "metadata": {},
   "outputs": [
    {
     "data": {
      "text/plain": [
       "set"
      ]
     },
     "execution_count": 22,
     "metadata": {},
     "output_type": "execute_result"
    }
   ],
   "source": [
    "s1\n",
    "type(s1)"
   ]
  },
  {
   "cell_type": "code",
   "execution_count": 24,
   "id": "fa95f861",
   "metadata": {},
   "outputs": [
    {
     "data": {
      "text/plain": [
       "dict"
      ]
     },
     "execution_count": 24,
     "metadata": {},
     "output_type": "execute_result"
    }
   ],
   "source": [
    "d1={\"name\":\"Karthikeya\"}\n",
    "type(d1)"
   ]
  },
  {
   "cell_type": "code",
   "execution_count": 25,
   "id": "011dff52",
   "metadata": {},
   "outputs": [
    {
     "data": {
      "text/plain": [
       "dict"
      ]
     },
     "execution_count": 25,
     "metadata": {},
     "output_type": "execute_result"
    }
   ],
   "source": [
    "c1={}\n",
    "type(c1)"
   ]
  },
  {
   "cell_type": "code",
   "execution_count": 26,
   "id": "e1343023",
   "metadata": {},
   "outputs": [],
   "source": [
    "#default of curly brackets is dict"
   ]
  },
  {
   "cell_type": "code",
   "execution_count": 27,
   "id": "42c72637",
   "metadata": {},
   "outputs": [
    {
     "data": {
      "text/plain": [
       "{1, 2, 3}"
      ]
     },
     "execution_count": 27,
     "metadata": {},
     "output_type": "execute_result"
    }
   ],
   "source": [
    "s1"
   ]
  },
  {
   "cell_type": "code",
   "execution_count": 28,
   "id": "f838c909",
   "metadata": {},
   "outputs": [],
   "source": [
    "s1.add(35)"
   ]
  },
  {
   "cell_type": "code",
   "execution_count": 29,
   "id": "eccce97a",
   "metadata": {},
   "outputs": [
    {
     "data": {
      "text/plain": [
       "{1, 2, 3, 35}"
      ]
     },
     "execution_count": 29,
     "metadata": {},
     "output_type": "execute_result"
    }
   ],
   "source": [
    "s1"
   ]
  },
  {
   "cell_type": "code",
   "execution_count": 30,
   "id": "e4e97178",
   "metadata": {},
   "outputs": [
    {
     "data": {
      "text/plain": [
       "1"
      ]
     },
     "execution_count": 30,
     "metadata": {},
     "output_type": "execute_result"
    }
   ],
   "source": [
    "s1.pop()"
   ]
  },
  {
   "cell_type": "code",
   "execution_count": 31,
   "id": "25ccfb94",
   "metadata": {},
   "outputs": [
    {
     "data": {
      "text/plain": [
       "{2, 3, 35}"
      ]
     },
     "execution_count": 31,
     "metadata": {},
     "output_type": "execute_result"
    }
   ],
   "source": [
    "s1"
   ]
  },
  {
   "cell_type": "code",
   "execution_count": 33,
   "id": "1847feb5",
   "metadata": {},
   "outputs": [],
   "source": [
    "d1={'key1':234,'key2':923,45:[12,34,54,6]}"
   ]
  },
  {
   "cell_type": "code",
   "execution_count": 34,
   "id": "224079ff",
   "metadata": {},
   "outputs": [
    {
     "data": {
      "text/plain": [
       "dict_items([('key1', 234), ('key2', 923), (45, [12, 34, 54, 6])])"
      ]
     },
     "execution_count": 34,
     "metadata": {},
     "output_type": "execute_result"
    }
   ],
   "source": [
    "d1.items()"
   ]
  },
  {
   "cell_type": "markdown",
   "id": "007dafd0",
   "metadata": {},
   "source": [
    "# If condition\n"
   ]
  },
  {
   "cell_type": "code",
   "execution_count": 43,
   "id": "1cf9fb33",
   "metadata": {},
   "outputs": [
    {
     "name": "stdout",
     "output_type": "stream",
     "text": [
      "20\n",
      "Happy\n"
     ]
    }
   ],
   "source": [
    "a=int(input())\n",
    "if 10<a<15:\n",
    "    print(\"Karthikeya\")\n",
    "elif 15<a<=20:\n",
    "    print(\"Happy\")\n",
    "elif 20<a<=25:\n",
    "    print(\"Birthday\")\n",
    "else:\n",
    "    print(\"Bendi\")"
   ]
  },
  {
   "cell_type": "code",
   "execution_count": 46,
   "id": "eadb2f05",
   "metadata": {},
   "outputs": [
    {
     "name": "stdout",
     "output_type": "stream",
     "text": [
      "Input coursework1 name english\n",
      "input score_theory1 71\n",
      "input score_practical1 71\n",
      "Input coursework2 name math\n",
      "input score_theory2 10\n",
      "input score_practical2 10\n",
      "Invalid input\n",
      "coursework not recognized\n"
     ]
    }
   ],
   "source": [
    "coursework1 = input(\"Input coursework1 name \")\n",
    "score_theory1 = int(input(\"input score_theory1 \"))\n",
    "score_practical1 = int(input(\"input score_practical1 \"))\n",
    "coursework2 = input(\"Input coursework2 name \")\n",
    "score_theory2 = int(input(\"input score_theory2 \"))\n",
    "score_practical2 = int(input(\"input score_practical2 \"))\n",
    "if(coursework1 == \"English\" or coursework1 == \"english\"):\n",
    "    if(score_theory1 >70):\n",
    "        print(\"Invalid input\")\n",
    "    elif(score_practical2>70):\n",
    "        print(\"Invalid input\")\n",
    "    else:\n",
    "        print(\"Sum of theory and practical in english \",score_theory1+score_practical1)\n",
    "if(coursework2 == \"Science\" or coursework2 == \"science\"):\n",
    "    if(score_theory2 >70):\n",
    "        print(\"Invalid input\")\n",
    "    elif(score_practical2>70):\n",
    "        print(\"Invalid input\")\n",
    "    else:\n",
    "        print(\"Sum of theory and practical in Science\",score_theory2+score_practical2)\n",
    "else:\n",
    "    print(\"coursework not recognized\")"
   ]
  },
  {
   "cell_type": "code",
   "execution_count": 47,
   "id": "25835fe3",
   "metadata": {},
   "outputs": [],
   "source": [
    "s1=\"pwskills\""
   ]
  },
  {
   "cell_type": "code",
   "execution_count": 48,
   "id": "4e6872c3",
   "metadata": {},
   "outputs": [
    {
     "name": "stdout",
     "output_type": "stream",
     "text": [
      "p\n",
      "w\n",
      "s\n",
      "k\n",
      "i\n",
      "l\n",
      "l\n",
      "s\n"
     ]
    }
   ],
   "source": [
    "for i in s1:\n",
    "    print(i)"
   ]
  },
  {
   "cell_type": "code",
   "execution_count": 49,
   "id": "e0e09f9b",
   "metadata": {},
   "outputs": [
    {
     "name": "stdout",
     "output_type": "stream",
     "text": [
      "1\n",
      "2\n",
      "3\n",
      "44\n",
      "5\n",
      "6\n"
     ]
    }
   ],
   "source": [
    "l1=[1,2,3,44,5,6]\n",
    "for x in l1:\n",
    "    print(x)"
   ]
  },
  {
   "cell_type": "code",
   "execution_count": 50,
   "id": "2a0ae6f8",
   "metadata": {},
   "outputs": [
    {
     "name": "stdout",
     "output_type": "stream",
     "text": [
      "1\n",
      "2\n",
      "3\n"
     ]
    }
   ],
   "source": [
    "t1=(1,2,3)\n",
    "for i in t1:\n",
    "    print(i)"
   ]
  },
  {
   "cell_type": "code",
   "execution_count": 51,
   "id": "63d87c02",
   "metadata": {},
   "outputs": [],
   "source": [
    "d1={\"k1\":\"v1\",\"k2\":\"v2\"}"
   ]
  },
  {
   "cell_type": "code",
   "execution_count": 52,
   "id": "4ffda417",
   "metadata": {},
   "outputs": [
    {
     "data": {
      "text/plain": [
       "dict"
      ]
     },
     "execution_count": 52,
     "metadata": {},
     "output_type": "execute_result"
    }
   ],
   "source": [
    "type(d1)"
   ]
  },
  {
   "cell_type": "code",
   "execution_count": 53,
   "id": "bfe034fc",
   "metadata": {},
   "outputs": [
    {
     "name": "stdout",
     "output_type": "stream",
     "text": [
      "k 1\n",
      "k 2\n"
     ]
    }
   ],
   "source": [
    "for key,value in d1:\n",
    "    print(key,value)"
   ]
  },
  {
   "cell_type": "code",
   "execution_count": 55,
   "id": "6f49944b",
   "metadata": {},
   "outputs": [
    {
     "name": "stdout",
     "output_type": "stream",
     "text": [
      "p w s k i l l s "
     ]
    }
   ],
   "source": [
    "for i in s1:\n",
    "    print(i,end=\" \")"
   ]
  },
  {
   "cell_type": "code",
   "execution_count": 57,
   "id": "4f1a0c9a",
   "metadata": {},
   "outputs": [
    {
     "data": {
      "text/plain": [
       "[0, 1, 2, 3, 4]"
      ]
     },
     "execution_count": 57,
     "metadata": {},
     "output_type": "execute_result"
    }
   ],
   "source": [
    "list(range(5))"
   ]
  },
  {
   "cell_type": "code",
   "execution_count": 58,
   "id": "4652b666",
   "metadata": {},
   "outputs": [
    {
     "data": {
      "text/plain": [
       "[4, 5, 6, 7]"
      ]
     },
     "execution_count": 58,
     "metadata": {},
     "output_type": "execute_result"
    }
   ],
   "source": [
    "list(range(4,8))"
   ]
  },
  {
   "cell_type": "code",
   "execution_count": 59,
   "id": "6d090481",
   "metadata": {},
   "outputs": [],
   "source": [
    "#we can not iterate over integer"
   ]
  },
  {
   "cell_type": "code",
   "execution_count": 63,
   "id": "df7674ac",
   "metadata": {},
   "outputs": [
    {
     "name": "stdout",
     "output_type": "stream",
     "text": [
      "1\n",
      "2\n",
      "3\n",
      "4\n",
      "5\n"
     ]
    }
   ],
   "source": [
    "a=1\n",
    "while a<6:\n",
    "    print(a)\n",
    "    a=a+1"
   ]
  },
  {
   "cell_type": "code",
   "execution_count": 64,
   "id": "47752ce4",
   "metadata": {},
   "outputs": [
    {
     "name": "stdout",
     "output_type": "stream",
     "text": [
      "1\n",
      "2\n"
     ]
    }
   ],
   "source": [
    "for i in range(9):\n",
    "    i=i+1\n",
    "    if i==3:\n",
    "        break\n",
    "    print(i)"
   ]
  },
  {
   "cell_type": "code",
   "execution_count": 65,
   "id": "0e7f12f2",
   "metadata": {},
   "outputs": [
    {
     "name": "stdout",
     "output_type": "stream",
     "text": [
      "1\n",
      "2\n",
      "4\n",
      "5\n",
      "6\n",
      "7\n",
      "8\n",
      "9\n"
     ]
    }
   ],
   "source": [
    "for i in range(9):\n",
    "    i=i+1\n",
    "    if i==3:\n",
    "        continue\n",
    "    print(i)"
   ]
  },
  {
   "cell_type": "code",
   "execution_count": 73,
   "id": "5b5df751",
   "metadata": {},
   "outputs": [],
   "source": [
    "def addition(a,b):\n",
    "    print(a+b)"
   ]
  },
  {
   "cell_type": "code",
   "execution_count": 74,
   "id": "e74c734d",
   "metadata": {},
   "outputs": [
    {
     "name": "stdout",
     "output_type": "stream",
     "text": [
      "11\n"
     ]
    }
   ],
   "source": [
    "addition(5,6)"
   ]
  },
  {
   "cell_type": "code",
   "execution_count": 79,
   "id": "df2c1d8f",
   "metadata": {},
   "outputs": [],
   "source": [
    "def area(r):\n",
    "    print(3.14*r*r)"
   ]
  },
  {
   "cell_type": "code",
   "execution_count": 91,
   "id": "03ed5d4e",
   "metadata": {},
   "outputs": [
    {
     "name": "stdout",
     "output_type": "stream",
     "text": [
      "153.86\n"
     ]
    }
   ],
   "source": [
    "area(7)"
   ]
  },
  {
   "cell_type": "code",
   "execution_count": 88,
   "id": "97af40e5",
   "metadata": {},
   "outputs": [],
   "source": [
    "def add(a,b):\n",
    "    print(a+b)\n",
    "def sub(a,b):\n",
    "    print(a-b)\n",
    "def mult(a,b):\n",
    "    print(a*b)\n",
    "def div(a,b):\n",
    "    print(a/b)"
   ]
  },
  {
   "cell_type": "code",
   "execution_count": 89,
   "id": "0a147039",
   "metadata": {},
   "outputs": [
    {
     "name": "stdout",
     "output_type": "stream",
     "text": [
      "1.8333333333333333\n"
     ]
    }
   ],
   "source": [
    "div(22,12)"
   ]
  },
  {
   "cell_type": "markdown",
   "id": "dba33cd5",
   "metadata": {},
   "source": [
    "# caluculator"
   ]
  },
  {
   "cell_type": "code",
   "execution_count": 113,
   "id": "9bda57d1",
   "metadata": {},
   "outputs": [
    {
     "name": "stdout",
     "output_type": "stream",
     "text": [
      "Enter num1 12\n",
      "Enter num2 12\n",
      "Enter operator : +\n",
      "24\n"
     ]
    }
   ],
   "source": [
    "def cal(a,b):\n",
    "    op = input(\"Enter operator : \")\n",
    "    if(op == '+'):\n",
    "        print(a+b)\n",
    "    elif(op == '-'):\n",
    "        print(a-b)\n",
    "    elif(op == '*'):\n",
    "        print(a*b)\n",
    "    elif(op == '/'):\n",
    "        print(a/b)\n",
    "x=int(input(\"Enter num1 \"))\n",
    "y=int(input(\"Enter num2 \"))\n",
    "cal(x,y)"
   ]
  },
  {
   "cell_type": "code",
   "execution_count": 114,
   "id": "a0d9f4ab",
   "metadata": {},
   "outputs": [],
   "source": [
    "x=\"hi\""
   ]
  },
  {
   "cell_type": "code",
   "execution_count": 115,
   "id": "cd8e53df",
   "metadata": {},
   "outputs": [
    {
     "name": "stdout",
     "output_type": "stream",
     "text": [
      "hi Students\n"
     ]
    }
   ],
   "source": [
    "print(f\"{x} Students\")"
   ]
  },
  {
   "cell_type": "code",
   "execution_count": 119,
   "id": "8355e263",
   "metadata": {},
   "outputs": [
    {
     "name": "stdout",
     "output_type": "stream",
     "text": [
      "hi Students\n"
     ]
    }
   ],
   "source": [
    "print(x, \"Students\")"
   ]
  },
  {
   "cell_type": "code",
   "execution_count": 116,
   "id": "7a2623de",
   "metadata": {},
   "outputs": [],
   "source": [
    "a=10\n",
    "b=20"
   ]
  },
  {
   "cell_type": "code",
   "execution_count": 118,
   "id": "8ca3b9eb",
   "metadata": {},
   "outputs": [
    {
     "name": "stdout",
     "output_type": "stream",
     "text": [
      "addition of 10 and 20 is 30\n"
     ]
    }
   ],
   "source": [
    "print(f\"addition of {a} and {b} is 30\")"
   ]
  },
  {
   "cell_type": "code",
   "execution_count": 120,
   "id": "42b82240",
   "metadata": {},
   "outputs": [
    {
     "name": "stdout",
     "output_type": "stream",
     "text": [
      "Addition of 20 and 10 is 30\n"
     ]
    }
   ],
   "source": [
    "print(\"Addition of {1} and {0} is 30\".format(10,20))"
   ]
  },
  {
   "cell_type": "code",
   "execution_count": null,
   "id": "59ca7da4",
   "metadata": {},
   "outputs": [],
   "source": [
    "\n"
   ]
  }
 ],
 "metadata": {
  "kernelspec": {
   "display_name": "Python 3 (ipykernel)",
   "language": "python",
   "name": "python3"
  },
  "language_info": {
   "codemirror_mode": {
    "name": "ipython",
    "version": 3
   },
   "file_extension": ".py",
   "mimetype": "text/x-python",
   "name": "python",
   "nbconvert_exporter": "python",
   "pygments_lexer": "ipython3",
   "version": "3.11.5"
  }
 },
 "nbformat": 4,
 "nbformat_minor": 5
}
